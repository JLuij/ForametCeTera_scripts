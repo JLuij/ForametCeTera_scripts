{
 "cells": [
  {
   "cell_type": "code",
   "execution_count": null,
   "metadata": {},
   "outputs": [],
   "source": [
    "import tifffile as tf\n",
    "import nrrd\n",
    "import numpy as np\n",
    "\n",
    "import os\n",
    "import glob"
   ]
  },
  {
   "cell_type": "code",
   "execution_count": null,
   "metadata": {},
   "outputs": [],
   "source": [
    "## Change these paths to your relevant directories\n",
    "tiff_stack_path = r'path/to/directory/with/tiff stack'\n",
    "nrrd_output_path = r'path/to/output.nrrd'\n",
    "\n",
    "file_extension = r'.tiff'\n",
    "tiff_paths = glob.glob(os.path.join(tiff_stack_path, '*' + file_extension))\n",
    "print(f'Found {len(tiff_paths)} \\'{file_extension}\\' files')"
   ]
  },
  {
   "cell_type": "code",
   "execution_count": null,
   "metadata": {},
   "outputs": [],
   "source": [
    "# Stack the images one by one\n",
    "print('Stacking...', end='')\n",
    "stacked_images = np.stack([np.array(tf.imread(path)) for path in tiff_paths])\n",
    "print(f' Done! Stacked data shape: {stacked_images.shape}')\n",
    "\n",
    "\n",
    "# Optionally show a preview\n",
    "show_preview = True\n",
    "if show_preview:\n",
    "    import matplotlib.pyplot as plt\n",
    "    \n",
    "    shape = stacked_images.shape\n",
    "    plt.imshow(stacked_images[shape[0]//2, :, :])\n",
    "    plt.show()\n",
    "    plt.imshow(stacked_images[:, shape[1]//2, :])\n",
    "    plt.show()\n",
    "\n",
    "# Optionally downsize the volume. `scaling` < 1 downsizes the volume e.g. 0.5 halves the\n",
    "#   volume shape. NOTE: by default, spline interpolation will be applied\n",
    "scaling = 0.5\n",
    "if scaling != 1.0:\n",
    "    from scipy.ndimage import zoom\n",
    "    \n",
    "    print(f'Resizing as provided scaling != 1 but {scaling}...', end='')\n",
    "    \n",
    "    ## Uses spline interpolation by default (order=3)\n",
    "    stacked_images = zoom(stacked_images, scaling, order=3)\n",
    "    print(f' Done! Stacked data shape is now: {stacked_images.shape}')\n",
    "\n",
    "print(f'Writing .nrrd file to {nrrd_output_path}')\n",
    "nrrd.write(nrrd_output_path, stacked_images)\n",
    "\n",
    "print('Done!')"
   ]
  }
 ],
 "metadata": {
  "kernelspec": {
   "display_name": "datasetnameenv",
   "language": "python",
   "name": "python3"
  },
  "language_info": {
   "codemirror_mode": {
    "name": "ipython",
    "version": 3
   },
   "file_extension": ".py",
   "mimetype": "text/x-python",
   "name": "python",
   "nbconvert_exporter": "python",
   "pygments_lexer": "ipython3",
   "version": "3.9.16"
  },
  "orig_nbformat": 4
 },
 "nbformat": 4,
 "nbformat_minor": 2
}
